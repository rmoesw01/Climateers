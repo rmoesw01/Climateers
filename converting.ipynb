{
 "cells": [
  {
   "cell_type": "code",
   "execution_count": 3,
   "metadata": {},
   "outputs": [],
   "source": [
    "from DATAcsv_TO_json import converter"
   ]
  },
  {
   "cell_type": "code",
   "execution_count": 4,
   "metadata": {},
   "outputs": [],
   "source": [
    "# converter(\"static/data/dfFilt.csv\",\"static/data/snow_pred_df.csv\",\"static/data/snow.json\",\"Year\",\"SNOW\")\n",
    "# converter(\"static/data/dfFilt.csv\",\"static/data/EMXP_pred_df.csv\",\"static/data/EMXP.json\",\"Year\",\"EMXP\")\n",
    "# converter(\"static/data/dfFilt.csv\",\"static/data/PRCP_pred_df.csv\",\"static/data/PRCP.json\",\"Year\",\"PRCP\")\n",
    "converter(\"static/data/dfFilt.csv\",\"static/data/TMAX_pred_df.csv\",\"static/data/TMAX.json\",\"Year\",\"TMAX\")\n",
    "# converter(\"static/data/dfFilt.csv\",\"static/data/TMIN_pred_df.csv\",\"static/data/TMIN.json\",\"Year\",\"TMIN\")"
   ]
  },
  {
   "cell_type": "code",
   "execution_count": null,
   "metadata": {},
   "outputs": [],
   "source": []
  }
 ],
 "metadata": {
  "kernelspec": {
   "display_name": "Python [conda env:PythonData] *",
   "language": "python",
   "name": "conda-env-PythonData-py"
  },
  "language_info": {
   "codemirror_mode": {
    "name": "ipython",
    "version": 3
   },
   "file_extension": ".py",
   "mimetype": "text/x-python",
   "name": "python",
   "nbconvert_exporter": "python",
   "pygments_lexer": "ipython3",
   "version": "3.6.10"
  }
 },
 "nbformat": 4,
 "nbformat_minor": 4
}
