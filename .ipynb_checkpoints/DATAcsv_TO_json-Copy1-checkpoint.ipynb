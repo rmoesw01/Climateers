{
 "cells": [
  {
   "cell_type": "code",
   "execution_count": 1,
   "metadata": {},
   "outputs": [],
   "source": [
    "import requests\n",
    "import pandas as pd\n",
    "import json\n",
    "import csv\n",
    "from geojson import Feature, FeatureCollection, Point"
   ]
  },
  {
   "cell_type": "code",
   "execution_count": 2,
   "metadata": {},
   "outputs": [],
   "source": [
    "def converter(csv_filepath, pred_filepath, output_path, date_col, y_col):\n",
    "\n",
    "    data_df = pd.read_csv(csv_filepath)\n",
    "    pred_df = pd.read_csv(pred_filepath)\n",
    "    \n",
    "    features = []\n",
    "\n",
    "    for row in data_df.iterrows():\n",
    "        features.append(\n",
    "            {\n",
    "                \"date\": row[1][date_col],\n",
    "                \"observed\": row[1][y_col]\n",
    "            }\n",
    "        )\n",
    "\n",
    "    for row in pred_df.iterrows():    \n",
    "        features.append(\n",
    "            {\n",
    "                \"date\": row[1][date_col],\n",
    "                \"easing\": row[1][\"easing\"],\n",
    "                \"maintaining\": row[1][\"maintaining\"],\n",
    "                \"increasing\": row[1][\"increase\"] \n",
    "            }\n",
    "        )\n",
    "    with open(output_path, \"w\") as f:\n",
    "        f.write(\"%s\" % features)"
   ]
  },
  {
   "cell_type": "code",
   "execution_count": 3,
   "metadata": {},
   "outputs": [],
   "source": [
    "converter(\"static/data/dfFilt.csv\",\"static/data/snow_pred_df.csv\",\"static/data/snow2.json\",\"Year\",\"SNOW\")"
   ]
  },
  {
   "cell_type": "code",
   "execution_count": null,
   "metadata": {},
   "outputs": [],
   "source": []
  }
 ],
 "metadata": {
  "kernelspec": {
   "display_name": "Python [conda env:PythonData] *",
   "language": "python",
   "name": "conda-env-PythonData-py"
  },
  "language_info": {
   "codemirror_mode": {
    "name": "ipython",
    "version": 3
   },
   "file_extension": ".py",
   "mimetype": "text/x-python",
   "name": "python",
   "nbconvert_exporter": "python",
   "pygments_lexer": "ipython3",
   "version": "3.6.10"
  }
 },
 "nbformat": 4,
 "nbformat_minor": 4
}
