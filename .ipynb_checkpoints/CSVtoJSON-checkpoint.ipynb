{
 "cells": [
  {
   "cell_type": "code",
   "execution_count": 1,
   "metadata": {},
   "outputs": [],
   "source": [
    "import requests\n",
    "import pandas as pd\n",
    "import json\n",
    "import csv\n",
    "from geojson import Feature, FeatureCollection, Point"
   ]
  },
  {
   "cell_type": "code",
   "execution_count": 2,
   "metadata": {},
   "outputs": [],
   "source": [
    "features = []\n",
    "with open(\"static/data/NOAA_filtStations.csv\", newline='') as csvfile:\n",
    "    reader = csv.reader(csvfile, delimiter=',')\n",
    "    next(reader)\n",
    "    for elevation, mindate, maxdate, latitude, name, datacoverage, id, elevationUnit, longitude in reader:\n",
    "        latitude, longitude, elevation = map(float, (latitude, longitude, elevation))\n",
    "              \n",
    "        features.append(\n",
    "            {\"longitude\": longitude,\n",
    "             \"latitude\": latitude,\n",
    "             \"elevation\": elevation,\n",
    "             \"name\": name,\n",
    "             \"id\": id}\n",
    "        )\n",
    "\n",
    "\n",
    "with open(\"static/data/NOAA_filtStations.json\", \"w\") as f:\n",
    "    f.write('%s' % features)"
   ]
  },
  {
   "cell_type": "code",
   "execution_count": null,
   "metadata": {},
   "outputs": [],
   "source": []
  }
 ],
 "metadata": {
  "kernelspec": {
   "display_name": "Python [conda env:PythonData] *",
   "language": "python",
   "name": "conda-env-PythonData-py"
  },
  "language_info": {
   "codemirror_mode": {
    "name": "ipython",
    "version": 3
   },
   "file_extension": ".py",
   "mimetype": "text/x-python",
   "name": "python",
   "nbconvert_exporter": "python",
   "pygments_lexer": "ipython3",
   "version": "3.6.10"
  }
 },
 "nbformat": 4,
 "nbformat_minor": 4
}
