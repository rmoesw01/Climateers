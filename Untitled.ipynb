{
 "cells": [
  {
   "cell_type": "code",
   "execution_count": 1,
   "metadata": {},
   "outputs": [],
   "source": [
    "import pandas as pd"
   ]
  },
  {
   "cell_type": "code",
   "execution_count": 3,
   "metadata": {},
   "outputs": [],
   "source": [
    "decades = [\"1965\",\"1970\",\"1975\",\"1980\",\"1985\",\"1990\",\"1995\",\"2000\",\"2005\",\"2010\",\"2015\"]\n",
    "datatypes = [\"TMAX\", \"SNOW\", \"PRCP\", \"EMXP\", \"TMIN\"]\n",
    "for i in range(0,11):\n",
    "    for j in range(0,5):\n",
    "        df = pd.read_csv(\"static/data/NOAA_GSOYdata\"+datatypes[j]+decades[i]+\"s.csv\")\n",
    "        if j == 0:\n",
    "            # First file\n",
    "            df.to_csv(\"static/data/NOAA_GSOY\"+decades[i]+\"s.csv\", header=True, index=False, mode=\"w\")\n",
    "        else:\n",
    "            df.to_csv(\"static/data/NOAA_GSOY\"+decades[i]+\"s.csv\", header=False, index=False, mode=\"a\")"
   ]
  },
  {
   "cell_type": "code",
   "execution_count": null,
   "metadata": {},
   "outputs": [],
   "source": []
  }
 ],
 "metadata": {
  "kernelspec": {
   "display_name": "Python [conda env:PythonData] *",
   "language": "python",
   "name": "conda-env-PythonData-py"
  },
  "language_info": {
   "codemirror_mode": {
    "name": "ipython",
    "version": 3
   },
   "file_extension": ".py",
   "mimetype": "text/x-python",
   "name": "python",
   "nbconvert_exporter": "python",
   "pygments_lexer": "ipython3",
   "version": "3.6.10"
  }
 },
 "nbformat": 4,
 "nbformat_minor": 4
}
