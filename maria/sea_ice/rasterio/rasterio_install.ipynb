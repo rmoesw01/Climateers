{
 "cells": [
  {
   "cell_type": "code",
   "execution_count": 1,
   "metadata": {},
   "outputs": [
    {
     "name": "stdout",
     "output_type": "stream",
     "text": [
      "Requirement already satisfied: GDAL==3.1.4 from file:///C:/Users/maria/Documents/2020%20GT%20data%20analytics/projects/planeteers/maria/sea_ice/rasterio/GDAL-3.1.4-cp36-cp36m-win_amd64.whl in c:\\users\\maria\\anaconda3\\envs\\pythondata\\lib\\site-packages (3.1.4)\n",
      "Requirement already satisfied: rasterio==1.1.8 from file:///C:/Users/maria/Documents/2020%20GT%20data%20analytics/projects/planeteers/maria/sea_ice/rasterio/rasterio-1.1.8-cp36-cp36m-win_amd64.whl in c:\\users\\maria\\anaconda3\\envs\\pythondata\\lib\\site-packages (1.1.8)\n",
      "Requirement already satisfied: affine in c:\\users\\maria\\anaconda3\\envs\\pythondata\\lib\\site-packages (from rasterio==1.1.8) (2.3.0)\n",
      "Requirement already satisfied: attrs in c:\\users\\maria\\anaconda3\\envs\\pythondata\\lib\\site-packages (from rasterio==1.1.8) (19.3.0)\n",
      "Requirement already satisfied: click>=4.0 in c:\\users\\maria\\anaconda3\\envs\\pythondata\\lib\\site-packages (from rasterio==1.1.8) (7.1.2)\n",
      "Requirement already satisfied: numpy in c:\\users\\maria\\anaconda3\\envs\\pythondata\\lib\\site-packages (from rasterio==1.1.8) (1.18.1)\n",
      "Requirement already satisfied: snuggs>=1.4.1 in c:\\users\\maria\\anaconda3\\envs\\pythondata\\lib\\site-packages (from rasterio==1.1.8) (1.4.7)\n",
      "Requirement already satisfied: click-plugins in c:\\users\\maria\\anaconda3\\envs\\pythondata\\lib\\site-packages (from rasterio==1.1.8) (1.1.1)\n",
      "Requirement already satisfied: gdal~=3.1.4 in c:\\users\\maria\\anaconda3\\envs\\pythondata\\lib\\site-packages (from rasterio==1.1.8) (3.1.4)\n",
      "Requirement already satisfied: cligj>=0.5 in c:\\users\\maria\\anaconda3\\envs\\pythondata\\lib\\site-packages (from rasterio==1.1.8) (0.7.0)\n",
      "Requirement already satisfied: pyparsing>=2.1.6 in c:\\users\\maria\\anaconda3\\envs\\pythondata\\lib\\site-packages (from snuggs>=1.4.1->rasterio==1.1.8) (2.4.7)\n"
     ]
    }
   ],
   "source": [
    "!pip install GDAL-3.1.4-cp36-cp36m-win_amd64.whl\n",
    "!pip install rasterio-1.1.8-cp36-cp36m-win_amd64.whl"
   ]
  }
 ],
 "metadata": {
  "kernelspec": {
   "display_name": "Python [conda env:PythonData] *",
   "language": "python",
   "name": "conda-env-PythonData-py"
  },
  "language_info": {
   "codemirror_mode": {
    "name": "ipython",
    "version": 3
   },
   "file_extension": ".py",
   "mimetype": "text/x-python",
   "name": "python",
   "nbconvert_exporter": "python",
   "pygments_lexer": "ipython3",
   "version": "3.6.10"
  }
 },
 "nbformat": 4,
 "nbformat_minor": 4
}
