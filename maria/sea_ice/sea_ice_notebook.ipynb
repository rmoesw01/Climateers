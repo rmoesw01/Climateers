{
 "cells": [
  {
   "cell_type": "code",
   "execution_count": 18,
   "metadata": {},
   "outputs": [],
   "source": [
    "#rasterio imports\n",
    "import rasterio\n",
    "import rasterio.features\n",
    "import rasterio.warp\n",
    "from rasterio.plot import show"
   ]
  },
  {
   "cell_type": "code",
   "execution_count": 45,
   "metadata": {},
   "outputs": [
    {
     "data": {
      "image/png": "[encoded data removed]",
      "text/plain": [
       "<Figure size 432x288 with 1 Axes>"
      ]
     },
     "metadata": {
      "needs_background": "light"
     },
     "output_type": "display_data"
    },
    {
     "data": {
      "text/plain": [
       "<matplotlib.axes._subplots.AxesSubplot at 0x1fee29440f0>"
      ]
     },
     "execution_count": 45,
     "metadata": {},
     "output_type": "execute_result"
    }
   ],
   "source": [
    "src = rasterio.open('N_yearly_sea_ice/geotiffs/N_201908_extent_v3.0.tif')\n",
    "\n",
    "show(src.read())"
   ]
  },
  {
   "cell_type": "code",
   "execution_count": 25,
   "metadata": {},
   "outputs": [
    {
     "data": {
      "text/plain": [
       "{'driver': 'GTiff',\n",
       " 'dtype': 'uint8',\n",
       " 'nodata': None,\n",
       " 'width': 304,\n",
       " 'height': 448,\n",
       " 'count': 1,\n",
       " 'crs': CRS.from_epsg(3413),\n",
       " 'transform': Affine(25000.0, 0.0, -3850000.0,\n",
       "        0.0, -25000.0, 5850000.0)}"
      ]
     },
     "execution_count": 25,
     "metadata": {},
     "output_type": "execute_result"
    }
   ],
   "source": [
    "src.meta"
   ]
  },
  {
   "cell_type": "code",
   "execution_count": 31,
   "metadata": {},
   "outputs": [
    {
     "data": {
      "text/plain": [
       "array([[255, 255, 255, ..., 255, 255, 255],\n",
       "       [255, 255, 255, ..., 255, 255, 255],\n",
       "       [255, 255, 255, ..., 255, 255, 255],\n",
       "       ...,\n",
       "       [255, 255, 255, ..., 255, 255, 255],\n",
       "       [255, 255, 255, ..., 255, 255, 255],\n",
       "       [255, 255, 255, ..., 255, 255, 255]], dtype=uint8)"
      ]
     },
     "execution_count": 31,
     "metadata": {},
     "output_type": "execute_result"
    }
   ],
   "source": [
    "src.read_masks(1)"
   ]
  },
  {
   "cell_type": "code",
   "execution_count": null,
   "metadata": {},
   "outputs": [],
   "source": [
    "import numpy\n",
    "\n",
    "def normalize(x, lower, upper):\n",
    "    \"\"\"Normalize an array to a given bound interval\"\"\"\n",
    "\n",
    "    x_max = numpy.max(x)\n",
    "    x_min = numpy.min(x)\n",
    "\n",
    "    m = (upper - lower) / (x_max - x_min)\n",
    "    x_norm = (m * (x - x_min)) + lower\n",
    "\n",
    "    return x_norm\n",
    "\n",
    "# Normalize each band separately\n",
    "data_norm = numpy.array([normalize(data[i,:,:], 0, 255) for i in range(data.shape[0])])\n",
    "data_rgb = data_norm.astype(\"uint8\")"
   ]
  },
  {
   "cell_type": "code",
   "execution_count": 32,
   "metadata": {},
   "outputs": [
    {
     "data": {
      "text/plain": [
       "(1, 448, 304)"
      ]
     },
     "execution_count": 32,
     "metadata": {},
     "output_type": "execute_result"
    }
   ],
   "source": [
    "array = src.read()\n",
    "array.shape"
   ]
  },
  {
   "cell_type": "code",
   "execution_count": 12,
   "metadata": {},
   "outputs": [
    {
     "data": {
      "text/plain": [
       "(448, 304)"
      ]
     },
     "execution_count": 12,
     "metadata": {},
     "output_type": "execute_result"
    }
   ],
   "source": [
    "array = src.read(1)\n",
    "array.shape"
   ]
  },
  {
   "cell_type": "code",
   "execution_count": 16,
   "metadata": {},
   "outputs": [
    {
     "data": {
      "image/png": "[encoded data removed]",
      "text/plain": [
       "<Figure size 432x288 with 1 Axes>"
      ]
     },
     "metadata": {
      "needs_background": "light"
     },
     "output_type": "display_data"
    }
   ],
   "source": [
    "from matplotlib import pyplot\n",
    "pyplot.imshow(array, cmap='YlGn_r')\n",
    "\n",
    "pyplot.show()  "
   ]
  },
  {
   "cell_type": "code",
   "execution_count": 9,
   "metadata": {},
   "outputs": [
    {
     "data": {
      "text/plain": [
       "(<ColorInterp.palette: 2>,)"
      ]
     },
     "execution_count": 9,
     "metadata": {},
     "output_type": "execute_result"
    }
   ],
   "source": [
    "src.colorinterp"
   ]
  },
  {
   "cell_type": "code",
   "execution_count": null,
   "metadata": {},
   "outputs": [],
   "source": []
  },
  {
   "cell_type": "code",
   "execution_count": null,
   "metadata": {},
   "outputs": [],
   "source": [
    "#documentation help: https://rasterio.readthedocs.io/en/latest/\n",
    "\n",
    "#loop through all tifs from 1979-2014\n",
    "for x in range (1979, 2015):\n",
    "    try:\n",
    "        with rasterio.open(f'N_yearly_sea_ice/N_{x}08_extent_v3.0.tif') as dataset:\n",
    "\n",
    "            # Read the dataset's valid data mask as a ndarray.\n",
    "            mask = dataset.dataset_mask()\n",
    "\n",
    "            # Extract feature shapes and values from the array.\n",
    "            for geom, val in rasterio.features.shapes(\n",
    "                    mask, transform=dataset.transform):\n",
    "\n",
    "                # Transform shapes from the dataset's own coordinate\n",
    "                # reference system to CRS84 (EPSG:4326).\n",
    "                geom = rasterio.warp.transform_geom(\n",
    "                    dataset.crs, 'EPSG:4326', geom, precision=6)\n",
    "\n",
    "                # Print GeoJSON shapes to stdout.\n",
    "                print(geom)\n",
    "                \n",
    "    except:\n",
    "        pass\n",
    "\n"
   ]
  },
  {
   "cell_type": "code",
   "execution_count": 35,
   "metadata": {},
   "outputs": [
    {
     "name": "stdout",
     "output_type": "stream",
     "text": [
      "{'type': 'Polygon', 'coordinates': [[[1418458.022842, 6879521.410786], [-6524906.905075, -1063843.517132], [-1134766.418274, -6453984.003933], [6808598.509644, 1489380.923985], [1418458.022842, 6879521.410786]]]}\n"
     ]
    }
   ],
   "source": [
    "with rasterio.open(f'N_yearly_sea_ice/geotiffs/N_197908_extent_v3.0.tif') as dataset:\n",
    "\n",
    "        # Read the dataset's valid data mask as a ndarray.\n",
    "        mask = dataset.dataset_mask()\n",
    "\n",
    "        # Extract feature shapes and values from the array.\n",
    "        for geom, val in rasterio.features.shapes(mask, transform=dataset.transform):\n",
    "\n",
    "            # Transform shapes from the dataset's own coordinate\n",
    "            # reference system to CRS84 (EPSG:4326).\n",
    "            geom = rasterio.warp.transform_geom(\n",
    "                dataset.crs, 'EPSG:3995', geom, precision=6)\n",
    "\n",
    "            # Print GeoJSON shapes to stdout.\n",
    "            print(geom)"
   ]
  },
  {
   "cell_type": "code",
   "execution_count": 40,
   "metadata": {},
   "outputs": [
    {
     "name": "stdout",
     "output_type": "stream",
     "text": [
      "{'type': 'Polygon', 'coordinates': [[[1418458.022842, 6879521.410786], [-6524906.905075, -1063843.517132], [-1134766.418274, -6453984.003933], [6808598.509644, 1489380.923985], [1418458.022842, 6879521.410786]]]}\n"
     ]
    }
   ],
   "source": [
    "with rasterio.open(f'N_yearly_sea_ice/geotiffs/N_201808_extent_v3.0.tif') as dataset:\n",
    "\n",
    "        # Read the dataset's valid data mask as a ndarray.\n",
    "        mask = dataset.dataset_mask()\n",
    "\n",
    "        # Extract feature shapes and values from the array.\n",
    "        for geom, val in rasterio.features.shapes(mask, transform=dataset.transform):\n",
    "\n",
    "            # Transform shapes from the dataset's own coordinate\n",
    "            # reference system to CRS84 (EPSG:4326).\n",
    "            geom = rasterio.warp.transform_geom(\n",
    "                dataset.crs, 'EPSG:3995', geom, precision=6)\n",
    "\n",
    "            # Print GeoJSON shapes to stdout.\n",
    "            print(geom)"
   ]
  },
  {
   "cell_type": "code",
   "execution_count": null,
   "metadata": {},
   "outputs": [],
   "source": []
  },
  {
   "cell_type": "code",
   "execution_count": null,
   "metadata": {},
   "outputs": [],
   "source": []
  }
 ],
 "metadata": {
  "kernelspec": {
   "display_name": "Python [conda env:PythonData] *",
   "language": "python",
   "name": "conda-env-PythonData-py"
  },
  "language_info": {
   "codemirror_mode": {
    "name": "ipython",
    "version": 3
   },
   "file_extension": ".py",
   "mimetype": "text/x-python",
   "name": "python",
   "nbconvert_exporter": "python",
   "pygments_lexer": "ipython3",
   "version": "3.6.10"
  }
 },
 "nbformat": 4,
 "nbformat_minor": 4
}
