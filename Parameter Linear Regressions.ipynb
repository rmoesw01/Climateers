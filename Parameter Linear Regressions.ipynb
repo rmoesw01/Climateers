{
 "cells": [
  {
   "cell_type": "code",
   "execution_count": 1,
   "metadata": {},
   "outputs": [],
   "source": [
    "# Dependencies \n",
    "import matplotlib.pyplot as plt\n",
    "import pandas as pd\n",
    "import numpy as np\n",
    "import requests\n",
    "import time\n",
    "from scipy.stats import linregress\n",
    "import scipy.stats as sts"
   ]
  },
  {
   "cell_type": "code",
   "execution_count": 2,
   "metadata": {},
   "outputs": [],
   "source": [
    "#create function for linear regressions\n",
    "def linregress_func(x,y):\n",
    "    r = sts.pearsonr(x,y)\n",
    "    #perform linear regression\n",
    "    slope, intercept, rvalue, pvalue, stderr= linregress(x,y) \n",
    "   \n",
    "    #set equation needed to get regression values using y = mx +b\n",
    "    regress_values = x*slope + intercept\n",
    "\n",
    "    #get equation of a line for printing on graph\n",
    "    line_eq = \"y = \" + str(round(slope,6)) + \"x + \" + str(round(intercept,6))\n",
    "\n",
    "    #plot scatter chart\n",
    "    plt.scatter(x,y)\n",
    "    \n",
    "    #plot regression values on the same chart\n",
    "    plt.plot(x,regress_values, \"-r\",label = line_eq)\n",
    "    #add equation of line describing data set\n",
    "    plt.legend(loc = 'best')\n",
    "\n",
    "    #print line equation and r-squared value\n",
    "    print(f\"The r-squared is {round((r[0])**2,2)}.\")\n",
    "    print(f\"The equation of the regression line is {line_eq}.\")"
   ]
  },
  {
   "cell_type": "code",
   "execution_count": 3,
   "metadata": {},
   "outputs": [
    {
     "data": {
      "text/html": [
       "<div>\n",
       "<style scoped>\n",
       "    .dataframe tbody tr th:only-of-type {\n",
       "        vertical-align: middle;\n",
       "    }\n",
       "\n",
       "    .dataframe tbody tr th {\n",
       "        vertical-align: top;\n",
       "    }\n",
       "\n",
       "    .dataframe thead th {\n",
       "        text-align: right;\n",
       "    }\n",
       "</style>\n",
       "<table border=\"1\" class=\"dataframe\">\n",
       "  <thead>\n",
       "    <tr style=\"text-align: right;\">\n",
       "      <th></th>\n",
       "      <th>Year</th>\n",
       "      <th>Gas Fuel</th>\n",
       "      <th>Liquid Fuel</th>\n",
       "      <th>Solid Fuel</th>\n",
       "      <th>Cement</th>\n",
       "      <th>Gas Flaring</th>\n",
       "      <th>population</th>\n",
       "      <th>GCAG_TEMP</th>\n",
       "      <th>GIS_TEMP</th>\n",
       "      <th>Sea_anomaly_temp</th>\n",
       "      <th>GMSL</th>\n",
       "      <th>CO2_Increase</th>\n",
       "      <th>CSIRO Adjusted Sea Level</th>\n",
       "      <th>Glacier_mass</th>\n",
       "    </tr>\n",
       "  </thead>\n",
       "  <tbody>\n",
       "    <tr>\n",
       "      <th>0</th>\n",
       "      <td>1880</td>\n",
       "      <td>0.0</td>\n",
       "      <td>3.0</td>\n",
       "      <td>233.0</td>\n",
       "      <td>0.0</td>\n",
       "      <td>0.0</td>\n",
       "      <td>2.785161e+09</td>\n",
       "      <td>-0.1148</td>\n",
       "      <td>-0.20</td>\n",
       "      <td>-0.470009</td>\n",
       "      <td>-158.7</td>\n",
       "      <td>NaN</td>\n",
       "      <td>0.000000</td>\n",
       "      <td>NaN</td>\n",
       "    </tr>\n",
       "    <tr>\n",
       "      <th>1</th>\n",
       "      <td>1881</td>\n",
       "      <td>0.0</td>\n",
       "      <td>4.0</td>\n",
       "      <td>239.0</td>\n",
       "      <td>0.0</td>\n",
       "      <td>0.0</td>\n",
       "      <td>1.374792e+09</td>\n",
       "      <td>-0.0628</td>\n",
       "      <td>-0.12</td>\n",
       "      <td>-0.356879</td>\n",
       "      <td>-153.1</td>\n",
       "      <td>NaN</td>\n",
       "      <td>0.220472</td>\n",
       "      <td>NaN</td>\n",
       "    </tr>\n",
       "    <tr>\n",
       "      <th>2</th>\n",
       "      <td>1882</td>\n",
       "      <td>0.0</td>\n",
       "      <td>4.0</td>\n",
       "      <td>252.0</td>\n",
       "      <td>0.0</td>\n",
       "      <td>0.0</td>\n",
       "      <td>1.384401e+09</td>\n",
       "      <td>-0.0648</td>\n",
       "      <td>-0.10</td>\n",
       "      <td>-0.372661</td>\n",
       "      <td>-169.9</td>\n",
       "      <td>NaN</td>\n",
       "      <td>-0.440945</td>\n",
       "      <td>NaN</td>\n",
       "    </tr>\n",
       "    <tr>\n",
       "      <th>3</th>\n",
       "      <td>1883</td>\n",
       "      <td>0.0</td>\n",
       "      <td>3.0</td>\n",
       "      <td>269.0</td>\n",
       "      <td>0.0</td>\n",
       "      <td>0.0</td>\n",
       "      <td>1.394147e+09</td>\n",
       "      <td>-0.1424</td>\n",
       "      <td>-0.21</td>\n",
       "      <td>-0.448443</td>\n",
       "      <td>-164.6</td>\n",
       "      <td>NaN</td>\n",
       "      <td>-0.232283</td>\n",
       "      <td>NaN</td>\n",
       "    </tr>\n",
       "    <tr>\n",
       "      <th>4</th>\n",
       "      <td>1884</td>\n",
       "      <td>0.0</td>\n",
       "      <td>4.0</td>\n",
       "      <td>271.0</td>\n",
       "      <td>0.0</td>\n",
       "      <td>0.0</td>\n",
       "      <td>1.403721e+09</td>\n",
       "      <td>-0.2009</td>\n",
       "      <td>-0.28</td>\n",
       "      <td>-0.589754</td>\n",
       "      <td>-143.7</td>\n",
       "      <td>NaN</td>\n",
       "      <td>0.590551</td>\n",
       "      <td>NaN</td>\n",
       "    </tr>\n",
       "    <tr>\n",
       "      <th>...</th>\n",
       "      <td>...</td>\n",
       "      <td>...</td>\n",
       "      <td>...</td>\n",
       "      <td>...</td>\n",
       "      <td>...</td>\n",
       "      <td>...</td>\n",
       "      <td>...</td>\n",
       "      <td>...</td>\n",
       "      <td>...</td>\n",
       "      <td>...</td>\n",
       "      <td>...</td>\n",
       "      <td>...</td>\n",
       "      <td>...</td>\n",
       "      <td>...</td>\n",
       "    </tr>\n",
       "    <tr>\n",
       "      <th>133</th>\n",
       "      <td>2013</td>\n",
       "      <td>NaN</td>\n",
       "      <td>NaN</td>\n",
       "      <td>NaN</td>\n",
       "      <td>NaN</td>\n",
       "      <td>NaN</td>\n",
       "      <td>NaN</td>\n",
       "      <td>0.6679</td>\n",
       "      <td>0.65</td>\n",
       "      <td>0.584674</td>\n",
       "      <td>67.7</td>\n",
       "      <td>2.41</td>\n",
       "      <td>8.980315</td>\n",
       "      <td>-27.817</td>\n",
       "    </tr>\n",
       "    <tr>\n",
       "      <th>134</th>\n",
       "      <td>2014</td>\n",
       "      <td>NaN</td>\n",
       "      <td>NaN</td>\n",
       "      <td>NaN</td>\n",
       "      <td>NaN</td>\n",
       "      <td>NaN</td>\n",
       "      <td>NaN</td>\n",
       "      <td>0.7408</td>\n",
       "      <td>0.74</td>\n",
       "      <td>0.751255</td>\n",
       "      <td>NaN</td>\n",
       "      <td>2.04</td>\n",
       "      <td>NaN</td>\n",
       "      <td>-28.652</td>\n",
       "    </tr>\n",
       "    <tr>\n",
       "      <th>135</th>\n",
       "      <td>2015</td>\n",
       "      <td>NaN</td>\n",
       "      <td>NaN</td>\n",
       "      <td>NaN</td>\n",
       "      <td>NaN</td>\n",
       "      <td>NaN</td>\n",
       "      <td>NaN</td>\n",
       "      <td>0.8998</td>\n",
       "      <td>0.87</td>\n",
       "      <td>0.935577</td>\n",
       "      <td>NaN</td>\n",
       "      <td>2.94</td>\n",
       "      <td>NaN</td>\n",
       "      <td>NaN</td>\n",
       "    </tr>\n",
       "    <tr>\n",
       "      <th>136</th>\n",
       "      <td>2016</td>\n",
       "      <td>NaN</td>\n",
       "      <td>NaN</td>\n",
       "      <td>NaN</td>\n",
       "      <td>NaN</td>\n",
       "      <td>NaN</td>\n",
       "      <td>NaN</td>\n",
       "      <td>0.9363</td>\n",
       "      <td>0.99</td>\n",
       "      <td>NaN</td>\n",
       "      <td>NaN</td>\n",
       "      <td>2.86</td>\n",
       "      <td>NaN</td>\n",
       "      <td>NaN</td>\n",
       "    </tr>\n",
       "    <tr>\n",
       "      <th>137</th>\n",
       "      <td>2017</td>\n",
       "      <td>NaN</td>\n",
       "      <td>NaN</td>\n",
       "      <td>NaN</td>\n",
       "      <td>NaN</td>\n",
       "      <td>NaN</td>\n",
       "      <td>NaN</td>\n",
       "      <td>NaN</td>\n",
       "      <td>NaN</td>\n",
       "      <td>NaN</td>\n",
       "      <td>NaN</td>\n",
       "      <td>2.14</td>\n",
       "      <td>NaN</td>\n",
       "      <td>NaN</td>\n",
       "    </tr>\n",
       "  </tbody>\n",
       "</table>\n",
       "<p>138 rows × 14 columns</p>\n",
       "</div>"
      ],
      "text/plain": [
       "     Year  Gas Fuel  Liquid Fuel  Solid Fuel  Cement  Gas Flaring  \\\n",
       "0    1880       0.0          3.0       233.0     0.0          0.0   \n",
       "1    1881       0.0          4.0       239.0     0.0          0.0   \n",
       "2    1882       0.0          4.0       252.0     0.0          0.0   \n",
       "3    1883       0.0          3.0       269.0     0.0          0.0   \n",
       "4    1884       0.0          4.0       271.0     0.0          0.0   \n",
       "..    ...       ...          ...         ...     ...          ...   \n",
       "133  2013       NaN          NaN         NaN     NaN          NaN   \n",
       "134  2014       NaN          NaN         NaN     NaN          NaN   \n",
       "135  2015       NaN          NaN         NaN     NaN          NaN   \n",
       "136  2016       NaN          NaN         NaN     NaN          NaN   \n",
       "137  2017       NaN          NaN         NaN     NaN          NaN   \n",
       "\n",
       "       population  GCAG_TEMP  GIS_TEMP  Sea_anomaly_temp   GMSL  CO2_Increase  \\\n",
       "0    2.785161e+09    -0.1148     -0.20         -0.470009 -158.7           NaN   \n",
       "1    1.374792e+09    -0.0628     -0.12         -0.356879 -153.1           NaN   \n",
       "2    1.384401e+09    -0.0648     -0.10         -0.372661 -169.9           NaN   \n",
       "3    1.394147e+09    -0.1424     -0.21         -0.448443 -164.6           NaN   \n",
       "4    1.403721e+09    -0.2009     -0.28         -0.589754 -143.7           NaN   \n",
       "..            ...        ...       ...               ...    ...           ...   \n",
       "133           NaN     0.6679      0.65          0.584674   67.7          2.41   \n",
       "134           NaN     0.7408      0.74          0.751255    NaN          2.04   \n",
       "135           NaN     0.8998      0.87          0.935577    NaN          2.94   \n",
       "136           NaN     0.9363      0.99               NaN    NaN          2.86   \n",
       "137           NaN        NaN       NaN               NaN    NaN          2.14   \n",
       "\n",
       "     CSIRO Adjusted Sea Level  Glacier_mass  \n",
       "0                    0.000000           NaN  \n",
       "1                    0.220472           NaN  \n",
       "2                   -0.440945           NaN  \n",
       "3                   -0.232283           NaN  \n",
       "4                    0.590551           NaN  \n",
       "..                        ...           ...  \n",
       "133                  8.980315       -27.817  \n",
       "134                       NaN       -28.652  \n",
       "135                       NaN           NaN  \n",
       "136                       NaN           NaN  \n",
       "137                       NaN           NaN  \n",
       "\n",
       "[138 rows x 14 columns]"
      ]
     },
     "execution_count": 3,
     "metadata": {},
     "output_type": "execute_result"
    }
   ],
   "source": [
    "#bring in global warming factors\n",
    "global_warming_data = pd.read_csv(\"Data/All_parameters.csv\")\n",
    "global_warming_data"
   ]
  },
  {
   "cell_type": "code",
   "execution_count": 4,
   "metadata": {},
   "outputs": [
    {
     "name": "stdout",
     "output_type": "stream",
     "text": [
      "The r-squared is 0.99.\n",
      "The equation of the regression line is y = 28.249412x + -55184.160784.\n"
     ]
    },
    {
     "data": {
      "image/png": "[encoded data removed]",
      "text/plain": [
       "<Figure size 432x288 with 1 Axes>"
      ]
     },
     "metadata": {
      "needs_background": "light"
     },
     "output_type": "display_data"
    }
   ],
   "source": [
    "#linear regression for gas fuel\n",
    "x_gas = global_warming_data[\"Year\"][80:131]\n",
    "y_gas = global_warming_data[\"Gas Fuel\"][80:131]\n",
    "linregress_func(x_gas,y_gas)"
   ]
  },
  {
   "cell_type": "code",
   "execution_count": 5,
   "metadata": {},
   "outputs": [
    {
     "data": {
      "text/plain": [
       "[2162.15, 2444.64, 2727.13, 4139.6, 6964.55]"
      ]
     },
     "execution_count": 5,
     "metadata": {},
     "output_type": "execute_result"
    }
   ],
   "source": [
    "year_test = [2030,2040,2050,2100,2200]\n",
    "gas_results =[]\n",
    "for year in year_test:\n",
    "    gas_result = 28.249412*year + -55184.160784\n",
    "    gas_results.append(round(gas_result,2))\n",
    "gas_results"
   ]
  },
  {
   "cell_type": "code",
   "execution_count": 6,
   "metadata": {},
   "outputs": [
    {
     "name": "stdout",
     "output_type": "stream",
     "text": [
      "The r-squared is 0.84.\n",
      "The equation of the regression line is y = 27.103582x + -51732.504991.\n"
     ]
    },
    {
     "data": {
      "image/png": "[encoded data removed]",
      "text/plain": [
       "<Figure size 432x288 with 1 Axes>"
      ]
     },
     "metadata": {
      "needs_background": "light"
     },
     "output_type": "display_data"
    }
   ],
   "source": [
    "#linear regression for liquid fuel\n",
    "x_liquid = global_warming_data[\"Year\"][:131]\n",
    "y_liquid = global_warming_data[\"Liquid Fuel\"][:131]\n",
    "linregress_func(x_liquid,y_liquid)"
   ]
  },
  {
   "cell_type": "code",
   "execution_count": 7,
   "metadata": {},
   "outputs": [
    {
     "data": {
      "text/plain": [
       "[3287.77, 3558.8, 3829.84, 5185.02, 7895.38]"
      ]
     },
     "execution_count": 7,
     "metadata": {},
     "output_type": "execute_result"
    }
   ],
   "source": [
    "liquid_results =[]\n",
    "for year in year_test:\n",
    "    liquid_result = 27.103582*year + -51732.504991\n",
    "    liquid_results.append(round(liquid_result,2))\n",
    "liquid_results"
   ]
  },
  {
   "cell_type": "code",
   "execution_count": 8,
   "metadata": {
    "scrolled": true
   },
   "outputs": [
    {
     "name": "stdout",
     "output_type": "stream",
     "text": [
      "The r-squared is 0.88.\n",
      "The equation of the regression line is y = 20.67617x + -38913.54073.\n"
     ]
    },
    {
     "data": {
      "image/png": "[encoded data removed]",
      "text/plain": [
       "<Figure size 432x288 with 1 Axes>"
      ]
     },
     "metadata": {
      "needs_background": "light"
     },
     "output_type": "display_data"
    }
   ],
   "source": [
    "#linear regression for solid fuel\n",
    "x_solid = global_warming_data[\"Year\"][:131]\n",
    "y_solid = global_warming_data[\"Solid Fuel\"][:131]\n",
    "linregress_func(x_solid,y_solid)"
   ]
  },
  {
   "cell_type": "code",
   "execution_count": 9,
   "metadata": {},
   "outputs": [
    {
     "data": {
      "text/plain": [
       "[3059.08, 3265.85, 3472.61, 4506.42, 6574.03]"
      ]
     },
     "execution_count": 9,
     "metadata": {},
     "output_type": "execute_result"
    }
   ],
   "source": [
    "solid_results =[]\n",
    "for year in year_test:\n",
    "    solid_result = 20.67617*year + -38913.54073\n",
    "    solid_results.append(round(solid_result,2))\n",
    "solid_results"
   ]
  },
  {
   "cell_type": "code",
   "execution_count": 10,
   "metadata": {},
   "outputs": [
    {
     "name": "stdout",
     "output_type": "stream",
     "text": [
      "The r-squared is 0.88.\n",
      "The equation of the regression line is y = 9.866129x + -19463.120968.\n"
     ]
    },
    {
     "data": {
      "image/png": "[encoded data removed]",
      "text/plain": [
       "<Figure size 432x288 with 1 Axes>"
      ]
     },
     "metadata": {
      "needs_background": "light"
     },
     "output_type": "display_data"
    }
   ],
   "source": [
    "#linear regression for cement\n",
    "x_cement = global_warming_data[\"Year\"][100:131]\n",
    "y_cement = global_warming_data[\"Cement\"][100:131]\n",
    "linregress_func(x_cement,y_cement)"
   ]
  },
  {
   "cell_type": "code",
   "execution_count": 11,
   "metadata": {},
   "outputs": [
    {
     "data": {
      "text/plain": [
       "[565.12, 663.78, 762.44, 1255.75, 2242.36]"
      ]
     },
     "execution_count": 11,
     "metadata": {},
     "output_type": "execute_result"
    }
   ],
   "source": [
    "cement_results =[]\n",
    "for year in year_test:\n",
    "    cement_result = 9.866129*year + -19463.120968\n",
    "    cement_results.append(round(cement_result,2))\n",
    "cement_results"
   ]
  },
  {
   "cell_type": "code",
   "execution_count": 12,
   "metadata": {},
   "outputs": [
    {
     "name": "stdout",
     "output_type": "stream",
     "text": [
      "The r-squared is 0.58.\n",
      "The equation of the regression line is y = 0.647366x + -1233.194817.\n"
     ]
    },
    {
     "data": {
      "image/png": "[encoded data removed]",
      "text/plain": [
       "<Figure size 432x288 with 1 Axes>"
      ]
     },
     "metadata": {
      "needs_background": "light"
     },
     "output_type": "display_data"
    }
   ],
   "source": [
    "#linear regression for gas flaring\n",
    "x_gas_flaring = global_warming_data[\"Year\"][:131]\n",
    "y_gas_flaring = global_warming_data[\"Gas Flaring\"][:131]\n",
    "linregress_func(x_gas_flaring,y_gas_flaring)"
   ]
  },
  {
   "cell_type": "code",
   "execution_count": 13,
   "metadata": {},
   "outputs": [
    {
     "data": {
      "text/plain": [
       "[80.96, 87.43, 93.91, 126.27, 191.01]"
      ]
     },
     "execution_count": 13,
     "metadata": {},
     "output_type": "execute_result"
    }
   ],
   "source": [
    "gas_flaring_results =[]\n",
    "for year in year_test:\n",
    "    gas_flaring_result = 0.647366*year + -1233.194817\n",
    "    gas_flaring_results.append(round(gas_flaring_result,2))\n",
    "gas_flaring_results"
   ]
  },
  {
   "cell_type": "code",
   "execution_count": null,
   "metadata": {},
   "outputs": [],
   "source": [
    "#linear regression for population\n",
    "x_population = global_warming_data[\"Year\"][60:131]\n",
    "y_population = global_warming_data[\"population\"][60:131]\n",
    "linregress_func(x_population,y_population)"
   ]
  },
  {
   "cell_type": "code",
   "execution_count": null,
   "metadata": {},
   "outputs": [],
   "source": [
    "population_results =[]\n",
    "for year in year_test:\n",
    "    population_result = 234425654.7*year + -450525437313.73\n",
    "    population_results.append(round(population_result,2))\n",
    "population_results"
   ]
  },
  {
   "cell_type": "code",
   "execution_count": null,
   "metadata": {},
   "outputs": [],
   "source": [
    "#linear regression for GCAG\n",
    "x_gcag = global_warming_data[\"Year\"][20:136]\n",
    "y_gcag = global_warming_data[\"GCAG_TEMP\"][20:136]\n",
    "linregress_func(x_gcag,y_gcag)"
   ]
  },
  {
   "cell_type": "code",
   "execution_count": null,
   "metadata": {},
   "outputs": [],
   "source": [
    "gcag_results =[]\n",
    "for year in year_test:\n",
    "    gcag_result = 0.008365*year + -16.291496\n",
    "    gcag_results.append(round(gcag_result,2))\n",
    "gcag_results"
   ]
  },
  {
   "cell_type": "code",
   "execution_count": null,
   "metadata": {},
   "outputs": [],
   "source": [
    "#linear regression for GIS_Temp\n",
    "x_gis_temp = global_warming_data[\"Year\"][20:136]\n",
    "y_gis_temp = global_warming_data[\"GIS_TEMP\"][20:136]\n",
    "linregress_func(x_gis_temp,y_gis_temp)"
   ]
  },
  {
   "cell_type": "code",
   "execution_count": null,
   "metadata": {},
   "outputs": [],
   "source": [
    "gis_temp_results =[]\n",
    "for year in year_test:\n",
    "    gis_temp_result =  0.008699*year + -16.968383\n",
    "    gis_temp_results.append(round(gis_temp_result,2))\n",
    "gis_temp_results"
   ]
  },
  {
   "cell_type": "code",
   "execution_count": null,
   "metadata": {
    "scrolled": true
   },
   "outputs": [],
   "source": [
    "#linear regression for sea anomaly temp\n",
    "x_sea_temp = global_warming_data[\"Year\"][20:135]\n",
    "y_sea_temp = global_warming_data[\"Sea_anomaly_temp\"][20:135]\n",
    "linregress_func(x_sea_temp,y_sea_temp)"
   ]
  },
  {
   "cell_type": "code",
   "execution_count": null,
   "metadata": {},
   "outputs": [],
   "source": [
    "sea_temps =[]\n",
    "for year in year_test:\n",
    "    sea_temp =  0.012918*year + -25.561751\n",
    "    sea_temps.append(round(sea_temp,2))\n",
    "sea_temps"
   ]
  },
  {
   "cell_type": "code",
   "execution_count": null,
   "metadata": {},
   "outputs": [],
   "source": [
    "#linear regression for GMSL\n",
    "x_GMSL = global_warming_data[\"Year\"][:133]\n",
    "y_GMSL = global_warming_data[\"GMSL\"][:133]\n",
    "linregress_func(x_GMSL,y_GMSL)"
   ]
  },
  {
   "cell_type": "code",
   "execution_count": null,
   "metadata": {},
   "outputs": [],
   "source": [
    "gmsl_results =[]\n",
    "for year in year_test:\n",
    "    gmsl_result = 1.587639*year + -3156.633458\n",
    "    gmsl_results.append(round(gmsl_result,2))\n",
    "gmsl_results"
   ]
  },
  {
   "cell_type": "code",
   "execution_count": null,
   "metadata": {},
   "outputs": [],
   "source": [
    "#linear regression for CO2\n",
    "x_co2 = global_warming_data[\"Year\"][79:]\n",
    "y_co2 = global_warming_data[\"CO2_Increase\"][79:]\n",
    "linregress_func(x_co2,y_co2)"
   ]
  },
  {
   "cell_type": "code",
   "execution_count": null,
   "metadata": {},
   "outputs": [],
   "source": [
    "co2_results =[]\n",
    "for year in year_test:\n",
    "    co2_result =  0.027431*year + -52.997037\n",
    "    co2_results.append(round(co2_result,2))\n",
    "co2_results"
   ]
  },
  {
   "cell_type": "code",
   "execution_count": null,
   "metadata": {
    "scrolled": true
   },
   "outputs": [],
   "source": [
    "#linear regression for Adjusted Sea Level\n",
    "x_sea_lvl = global_warming_data[\"Year\"][:133]\n",
    "y_sea_lvl = global_warming_data[\"CSIRO Adjusted Sea Level\"][:133]\n",
    "linregress_func(x_sea_lvl,y_sea_lvl)"
   ]
  },
  {
   "cell_type": "code",
   "execution_count": null,
   "metadata": {},
   "outputs": [],
   "source": [
    "sea_lvl_results =[]\n",
    "for year in year_test:\n",
    "    sea_lvl_result = 0.062656*year + -118.317969\n",
    "    sea_lvl_results.append(round(sea_lvl_result,2))\n",
    "sea_lvl_results"
   ]
  },
  {
   "cell_type": "code",
   "execution_count": null,
   "metadata": {},
   "outputs": [],
   "source": [
    "#linear regression for glacier mass\n",
    "x_glacier = global_warming_data[\"Year\"][65:134]\n",
    "y_glacier = global_warming_data[\"Glacier_mass\"][65:134]\n",
    "linregress_func(x_glacier,y_glacier)"
   ]
  },
  {
   "cell_type": "code",
   "execution_count": null,
   "metadata": {},
   "outputs": [],
   "source": [
    "glacier_results =[]\n",
    "for year in year_test:\n",
    "    glacier_result =  -0.302983*year + 586.990421\n",
    "    glacier_results.append(round(glacier_result,2))\n",
    "glacier_results"
   ]
  },
  {
   "cell_type": "code",
   "execution_count": null,
   "metadata": {},
   "outputs": [],
   "source": []
  }
 ],
 "metadata": {
  "kernelspec": {
   "display_name": "Python [conda env:PythonData] *",
   "language": "python",
   "name": "conda-env-PythonData-py"
  },
  "language_info": {
   "codemirror_mode": {
    "name": "ipython",
    "version": 3
   },
   "file_extension": ".py",
   "mimetype": "text/x-python",
   "name": "python",
   "nbconvert_exporter": "python",
   "pygments_lexer": "ipython3",
   "version": "3.6.10"
  }
 },
 "nbformat": 4,
 "nbformat_minor": 4
}
